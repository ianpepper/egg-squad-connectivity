{
 "metadata": {
  "language_info": {
   "codemirror_mode": {
    "name": "ipython",
    "version": 3
   },
   "file_extension": ".py",
   "mimetype": "text/x-python",
   "name": "python",
   "nbconvert_exporter": "python",
   "pygments_lexer": "ipython3",
   "version": "3.7.6"
  },
  "orig_nbformat": 2,
  "kernelspec": {
   "name": "python3",
   "display_name": "Python 3.7.6 64-bit",
   "metadata": {
    "interpreter": {
     "hash": "097c432e1221da03e4cae7bc8a97fea399c50ccfd7887e1483b58fccc0ff1673"
    }
   }
  }
 },
 "nbformat": 4,
 "nbformat_minor": 2,
 "cells": [
  {
   "cell_type": "code",
   "execution_count": 2,
   "metadata": {},
   "outputs": [],
   "source": [
    "import pandas as pd\n",
    "import numpy as np\n",
    "from plotnine import *"
   ]
  },
  {
   "source": [
    "# Internet Performace Datasets\n",
    "\n",
    "https://wiki.cybera.ca/display/shareit/45613613/QAO9bc379dd5a4a49eea9a9e3d1d81be04bOFU\n"
   ],
   "cell_type": "markdown",
   "metadata": {}
  },
  {
   "cell_type": "code",
   "execution_count": null,
   "metadata": {},
   "outputs": [],
   "source": [
    "cira_url = 'https://swift-yyc.cloud.cybera.ca:8080/v1/AUTH_233e84cd313945c992b4b585f7b9125d/RMA-CIRA-Data-DSFA2020/RMADataForHackathon21-04-23.csv'\n",
    "\n",
    "mlab = []\n",
    "mlab.append('https://swift-yyc.cloud.cybera.ca:8080/v1/AUTH_233e84cd313945c992b4b585f7b9125d/MLabDat/2020-07-01_Mlab_data_start.csv')\n",
    "\n",
    "mlab.append('https://swift-yyc.cloud.cybera.ca:8080/v1/AUTH_233e84cd313945c992b4b585f7b9125d/MLabDat/2020-08-01_Mlab_data_start.csv')\n",
    "\n",
    "mlab.append('https://swift-yyc.cloud.cybera.ca:8080/v1/AUTH_233e84cd313945c992b4b585f7b9125d/MLabDat/2020-09-01_Mlab_data_start.csv')\n",
    "\n",
    "mlab.append('https://swift-yyc.cloud.cybera.ca:8080/v1/AUTH_233e84cd313945c992b4b585f7b9125d/MLabDat/2020-10-01_Mlab_data_start.csv')\n",
    "\n",
    "mlab.append('https://swift-yyc.cloud.cybera.ca:8080/v1/AUTH_233e84cd313945c992b4b585f7b9125d/MLabDat/2020-11-01_Mlab_data_start.csv')\n",
    "\n",
    "mlab.append('https://swift-yyc.cloud.cybera.ca:8080/v1/AUTH_233e84cd313945c992b4b585f7b9125d/MLabDat/2020-12-01_Mlab_data_start.csv')\n",
    "\n",
    "mlab.append('https://swift-yyc.cloud.cybera.ca:8080/v1/AUTH_233e84cd313945c992b4b585f7b9125d/MLabDat/2021-01-01_Mlab_data_start.csv')\n",
    "\n",
    "mlab.append('https://swift-yyc.cloud.cybera.ca:8080/v1/AUTH_233e84cd313945c992b4b585f7b9125d/MLabDat/2021-02-01_Mlab_data_start.csv')\n",
    "\n",
    "mlab.append('https://swift-yyc.cloud.cybera.ca:8080/v1/AUTH_233e84cd313945c992b4b585f7b9125d/MLabDat/2021-03-01_Mlab_data_start.csv')\n",
    "\n",
    "mlab.append('https://swift-yyc.cloud.cybera.ca:8080/v1/AUTH_233e84cd313945c992b4b585f7b9125d/MLabDat/2021-04-01_Mlab_data_start.csv')\n",
    "\n",
    "#shapefiles\n",
    "ookla = 'https://swift-yyc.cloud.cybera.ca:8080/v1/AUTH_233e84cd313945c992b4b585f7b9125d/Ookla_Data/AB_ookla_data_2020.zip'"
   ]
  }
 ]
}