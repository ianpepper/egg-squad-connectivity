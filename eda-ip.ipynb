{
 "metadata": {
  "language_info": {
   "codemirror_mode": {
    "name": "ipython",
    "version": 3
   },
   "file_extension": ".py",
   "mimetype": "text/x-python",
   "name": "python",
   "nbconvert_exporter": "python",
   "pygments_lexer": "ipython3",
   "version": "3.7.6"
  },
  "orig_nbformat": 2,
  "kernelspec": {
   "name": "python3",
   "display_name": "Python 3",
   "language": "python"
  }
 },
 "nbformat": 4,
 "nbformat_minor": 2,
 "cells": [
  {
   "cell_type": "code",
   "execution_count": 1,
   "metadata": {},
   "outputs": [],
   "source": [
    "from src.data.makedata import internetdata\n",
    "import pandas as pd\n",
    "import numpy as np\n",
    "from plotnine import *"
   ]
  },
  {
   "source": [
    "# Internet Performace Datasets\n",
    "\n",
    "https://wiki.cybera.ca/display/shareit/45613613/QAO9bc379dd5a4a49eea9a9e3d1d81be04bOFU\n"
   ],
   "cell_type": "markdown",
   "metadata": {}
  },
  {
   "cell_type": "code",
   "execution_count": 2,
   "metadata": {},
   "outputs": [],
   "source": [
    "df_cira,df_mlab,df_ookla = internetdata()"
   ]
  },
  {
   "source": [
    "## CIRA"
   ],
   "cell_type": "markdown",
   "metadata": {}
  },
  {
   "cell_type": "code",
   "execution_count": 5,
   "metadata": {},
   "outputs": [
    {
     "output_type": "stream",
     "name": "stdout",
     "text": [
      "<class 'pandas.core.frame.DataFrame'>\nRangeIndex: 20734 entries, 0 to 20733\nData columns (total 21 columns):\n #   Column                     Non-Null Count  Dtype  \n---  ------                     --------------  -----  \n 0   TEST ID                    20734 non-null  int64  \n 1   TEST DATE / UTC HOUR       20734 non-null  object \n 2   GEO LATITUDE               20734 non-null  float64\n 3   GEO LONGITUDE              20734 non-null  float64\n 4   DOWNLOAD SPEED             20734 non-null  float64\n 5   UPLOAD SPEED               20734 non-null  float64\n 6   JITTER                     15853 non-null  float64\n 7   LATENCY                    15853 non-null  float64\n 8   PACKET LOSS                15853 non-null  float64\n 9   IPV6 SUPPORTED             20734 non-null  bool   \n 10  DNSSEC SUPPORTED           20734 non-null  bool   \n 11  TEST SERVER                20734 non-null  object \n 12  browser_test_url           17214 non-null  object \n 13  CONTRACTED DOWNLOAD SPEED  6511 non-null   object \n 14  CONTRACTED UPLOAD SPEED    3942 non-null   object \n 15  CONTRACTED DATA CAP        3478 non-null   object \n 16  CONTRACTED MONTHLY COST    6962 non-null   object \n 17  SERVICE TYPE               7187 non-null   object \n 18  USER SATISFACTION          6952 non-null   float64\n 19  USER COMMENTS              8173 non-null   object \n 20  HEATMAP_MUNICIPALITY       20734 non-null  object \ndtypes: bool(2), float64(8), int64(1), object(10)\nmemory usage: 3.0+ MB\n"
     ]
    }
   ],
   "source": [
    "df_cira.info()"
   ]
  },
  {
   "source": [
    "## Mlab"
   ],
   "cell_type": "markdown",
   "metadata": {}
  },
  {
   "cell_type": "code",
   "execution_count": 6,
   "metadata": {},
   "outputs": [
    {
     "output_type": "stream",
     "name": "stdout",
     "text": [
      "<class 'pandas.core.frame.DataFrame'>\nInt64Index: 1021143 entries, 0 to 59947\nData columns (total 20 columns):\n #   Column                                       Non-Null Count    Dtype  \n---  ------                                       --------------    -----  \n 0   Unnamed: 0                                   1021143 non-null  int64  \n 1   ServerCity                                   1021143 non-null  object \n 2   ServerLat                                    1021143 non-null  float64\n 3   ServerLong                                   1021143 non-null  float64\n 4   ServerNetworkName                            1021143 non-null  object \n 5   ClientCountry                                1021143 non-null  object \n 6   ClientCity                                   1021143 non-null  object \n 7   ClientLat                                    1021143 non-null  float64\n 8   ClientLong                                   1021143 non-null  float64\n 9   RadiusKm                                     1021143 non-null  int64  \n 10  ClientNetwork                                1021143 non-null  object \n 11  TestThroughputMbpsDownload                   1021143 non-null  float64\n 12  LossRateDownload                             1021143 non-null  float64\n 13  MinRoundTripTime                             1021143 non-null  float64\n 14  ClientPostal                                 1021143 non-null  object \n 15  TestThroughputMbpUpoad                       1021143 non-null  float64\n 16  TestTimeDownload                             1021143 non-null  object \n 17  TestTimeUpload                               1021143 non-null  object \n 18  TimeDifferenceBetweenDownloadAndUploadTests  1021143 non-null  int64  \n 19  row_number_sequence                          1021143 non-null  int64  \ndtypes: float64(8), int64(4), object(8)\nmemory usage: 163.6+ MB\n"
     ]
    }
   ],
   "source": [
    "df_mlab.info()"
   ]
  }
 ]
}